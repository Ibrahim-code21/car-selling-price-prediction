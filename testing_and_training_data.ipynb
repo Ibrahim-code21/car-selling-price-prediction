{
 "cells": [
  {
   "cell_type": "code",
   "execution_count": 1,
   "id": "e004e31e",
   "metadata": {},
   "outputs": [],
   "source": [
    "import pandas as pd\n",
    "from sklearn.model_selection import train_test_split\n",
    "df = pd.read_csv(\"car_data_encoded.csv\")\n",
    "target = \"Selling_Price\"\n",
    "Y = df[target].values\n",
    "X = df.drop(columns=[target])\n",
    "\n",
    "X_train , X_test , Y_train , Y_test = train_test_split(X,Y,test_size = 0.2, random_state=42)\n"
   ]
  },
  {
   "cell_type": "code",
   "execution_count": 6,
   "id": "49609446",
   "metadata": {},
   "outputs": [
    {
     "name": "stdout",
     "output_type": "stream",
     "text": [
      "   Present_Price  Driven_kms  Owner  Car_Age  Fuel_Type_Diesel  \\\n",
      "0           12.5       45000      0        5                 1   \n",
      "1            8.0       30000      0        3                 0   \n",
      "2           15.0       60000      1        7                 1   \n",
      "\n",
      "   Fuel_Type_Petrol  Selling_type_Individual  Transmission_Manual  \\\n",
      "0                 0                        1                    1   \n",
      "1                 1                        0                    0   \n",
      "2                 0                        1                    1   \n",
      "\n",
      "   prediction price(LR)  predicted_price(RF)  \n",
      "0              9.510714             10.79315  \n",
      "1              9.414432              6.02400  \n",
      "2              8.879804             12.47095  \n"
     ]
    }
   ],
   "source": [
    "from sklearn.linear_model import LinearRegression\n",
    "from sklearn.ensemble import RandomForestRegressor\n",
    "import pandas as pd\n",
    "\n",
    "\n",
    "\n",
    "lr = LinearRegression()\n",
    "lr.fit(X_train , Y_train)\n",
    "\n",
    "rf = RandomForestRegressor(n_estimators=200,random_state=42)\n",
    "rf.fit(X_train , Y_train)\n",
    "\n",
    "test = pd.read_csv(\"car_data_new.csv\")\n",
    "\n",
    "lr_predictions = lr.predict(test)\n",
    "rf_predictions = rf.predict(test)\n",
    "\n",
    "\n",
    "results = test.copy()\n",
    "results[\"prediction price(LR)\"] = lr_predictions\n",
    "results[\"predicted_price(RF)\"] = rf_predictions\n",
    "results.to_csv(\"predicted_prices.csv\", index=False)\n",
    "print(results)\n",
    "\n",
    "\n"
   ]
  }
 ],
 "metadata": {
  "kernelspec": {
   "display_name": "base",
   "language": "python",
   "name": "python3"
  },
  "language_info": {
   "codemirror_mode": {
    "name": "ipython",
    "version": 3
   },
   "file_extension": ".py",
   "mimetype": "text/x-python",
   "name": "python",
   "nbconvert_exporter": "python",
   "pygments_lexer": "ipython3",
   "version": "3.12.4"
  }
 },
 "nbformat": 4,
 "nbformat_minor": 5
}
